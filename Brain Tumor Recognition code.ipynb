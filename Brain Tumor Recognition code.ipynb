{
 "cells": [
  {
   "cell_type": "code",
   "execution_count": 1,
   "id": "25650bbc",
   "metadata": {},
   "outputs": [],
   "source": [
    "import  os\n",
    "import keras\n",
    "from keras.models import Sequential\n",
    "from keras.layers import Conv2D, MaxPooling2D, Flatten, Dense, Dropout, BatchNormalization\n",
    "from PIL import Image\n",
    "import numpy as np\n",
    "import pandas as pd\n",
    "import matplotlib.pyplot as plt\n",
    "%matplotlib inline\n",
    "from sklearn.model_selection import train_test_split\n",
    "from sklearn.preprocessing import OneHotEncoder"
   ]
  },
  {
   "cell_type": "code",
   "execution_count": 2,
   "id": "c58f91d1",
   "metadata": {},
   "outputs": [
    {
     "data": {
      "text/plain": [
       "OneHotEncoder()"
      ]
     },
     "execution_count": 2,
     "metadata": {},
     "output_type": "execute_result"
    }
   ],
   "source": [
    "encoder = OneHotEncoder()\n",
    "encoder.fit([[0], [1]]) \n",
    "# 0 - Tumor\n",
    "# 1 - Normal\n"
   ]
  },
  {
   "cell_type": "code",
   "execution_count": 3,
   "id": "02fc2d85",
   "metadata": {},
   "outputs": [],
   "source": [
    "data=[]\n",
    "paths=[]\n",
    "result=[]\n",
    "for r,d,f in os.walk(r'./brain_tumor_dataset/yes'):\n",
    "    for file in f:\n",
    "        if '.jpg' in file:\n",
    "            paths.append(os.path.join(r,file))\n",
    "for path in paths:\n",
    "    img=Image.open(path)\n",
    "    img = img.resize((128,128))\n",
    "    img = np.array(img)\n",
    "    if(img.shape == (128,128,3)):\n",
    "        data.append(np.array(img))\n",
    "        result.append(encoder.transform([[0]]).toarray())\n",
    "        "
   ]
  },
  {
   "cell_type": "code",
   "execution_count": 4,
   "id": "f5e5debd",
   "metadata": {},
   "outputs": [],
   "source": [
    "paths=[]\n",
    "for r,d,f in os.walk(r'./brain_tumor_dataset/no'):\n",
    "    for file in f:\n",
    "        if '.jpg' in file:\n",
    "            paths.append(os.path.join(r,file))\n",
    "for path in paths:\n",
    "    img=Image.open(path)\n",
    "    img=img.resize((128,128))\n",
    "    img=np.array(img)\n",
    "    if(img.shape==(128,128,3)):\n",
    "        data.append(np.array(img))\n",
    "        result.append(encoder.transform([[1]]).toarray())\n",
    "        "
   ]
  },
  {
   "cell_type": "code",
   "execution_count": 5,
   "id": "a0cd4dfe",
   "metadata": {},
   "outputs": [],
   "source": [
    "data = np.array(data)"
   ]
  },
  {
   "cell_type": "code",
   "execution_count": 6,
   "id": "19ad29c8",
   "metadata": {},
   "outputs": [
    {
     "data": {
      "text/plain": [
       "(139, 128, 128, 3)"
      ]
     },
     "execution_count": 6,
     "metadata": {},
     "output_type": "execute_result"
    }
   ],
   "source": [
    "data.shape"
   ]
  },
  {
   "cell_type": "code",
   "execution_count": 7,
   "id": "f2f63938",
   "metadata": {},
   "outputs": [],
   "source": [
    "result=np.array(result)"
   ]
  },
  {
   "cell_type": "code",
   "execution_count": 8,
   "id": "d69bcc71",
   "metadata": {},
   "outputs": [
    {
     "data": {
      "text/plain": [
       "(139, 1, 2)"
      ]
     },
     "execution_count": 8,
     "metadata": {},
     "output_type": "execute_result"
    }
   ],
   "source": [
    "result.shape"
   ]
  },
  {
   "cell_type": "code",
   "execution_count": 9,
   "id": "59e93fb4",
   "metadata": {},
   "outputs": [],
   "source": [
    "result=result.reshape(139,2)"
   ]
  },
  {
   "cell_type": "code",
   "execution_count": 10,
   "id": "e5635e60",
   "metadata": {},
   "outputs": [
    {
     "data": {
      "text/plain": [
       "(139, 2)"
      ]
     },
     "execution_count": 10,
     "metadata": {},
     "output_type": "execute_result"
    }
   ],
   "source": [
    "result.shape"
   ]
  },
  {
   "cell_type": "code",
   "execution_count": 11,
   "id": "b8574c5a",
   "metadata": {},
   "outputs": [],
   "source": [
    "x_train,x_test,y_train,y_test = train_test_split(data, result, test_size=0.2, shuffle=True, random_state=0)\n"
   ]
  },
  {
   "cell_type": "code",
   "execution_count": 12,
   "id": "00190c9f",
   "metadata": {},
   "outputs": [
    {
     "name": "stdout",
     "output_type": "stream",
     "text": [
      "Model: \"sequential\"\n",
      "_________________________________________________________________\n",
      " Layer (type)                Output Shape              Param #   \n",
      "=================================================================\n",
      " conv2d (Conv2D)             (None, 128, 128, 32)      416       \n",
      "                                                                 \n",
      " conv2d_1 (Conv2D)           (None, 128, 128, 32)      4128      \n",
      "                                                                 \n",
      " batch_normalization (BatchN  (None, 128, 128, 32)     128       \n",
      " ormalization)                                                   \n",
      "                                                                 \n",
      " max_pooling2d (MaxPooling2D  (None, 64, 64, 32)       0         \n",
      " )                                                               \n",
      "                                                                 \n",
      " dropout (Dropout)           (None, 64, 64, 32)        0         \n",
      "                                                                 \n",
      " conv2d_2 (Conv2D)           (None, 64, 64, 64)        8256      \n",
      "                                                                 \n",
      " conv2d_3 (Conv2D)           (None, 64, 64, 64)        16448     \n",
      "                                                                 \n",
      " batch_normalization_1 (Batc  (None, 64, 64, 64)       256       \n",
      " hNormalization)                                                 \n",
      "                                                                 \n",
      " max_pooling2d_1 (MaxPooling  (None, 32, 32, 64)       0         \n",
      " 2D)                                                             \n",
      "                                                                 \n",
      " dropout_1 (Dropout)         (None, 32, 32, 64)        0         \n",
      "                                                                 \n",
      " flatten (Flatten)           (None, 65536)             0         \n",
      "                                                                 \n",
      " dense (Dense)               (None, 512)               33554944  \n",
      "                                                                 \n",
      " dropout_2 (Dropout)         (None, 512)               0         \n",
      "                                                                 \n",
      " dense_1 (Dense)             (None, 2)                 1026      \n",
      "                                                                 \n",
      "=================================================================\n",
      "Total params: 33,585,602\n",
      "Trainable params: 33,585,410\n",
      "Non-trainable params: 192\n",
      "_________________________________________________________________\n",
      "None\n"
     ]
    }
   ],
   "source": [
    "model = Sequential()\n",
    "model.add(Conv2D(32, kernel_size=(2, 2), input_shape=(128, 128, 3), padding = 'Same'))\n",
    "model.add(Conv2D(32, kernel_size=(2, 2), activation ='relu', padding = 'Same'))\n",
    "model.add(BatchNormalization())\n",
    "model.add(MaxPooling2D(pool_size=(2, 2)))\n",
    "model.add(Dropout(0.25))\n",
    "model.add(Conv2D(64, kernel_size = (2,2), activation ='relu', padding = 'Same'))\n",
    "model.add(Conv2D(64, kernel_size = (2,2), activation ='relu', padding = 'Same'))\n",
    "model.add(BatchNormalization())\n",
    "model.add(MaxPooling2D(pool_size=(2,2), strides=(2,2)))\n",
    "model.add(Dropout(0.25))\n",
    "model.add(Flatten())\n",
    "model.add(Dense(512, activation='relu'))\n",
    "model.add(Dropout(0.5))\n",
    "model.add(Dense(2, activation='softmax'))\n",
    "model.compile(loss = \"categorical_crossentropy\", optimizer='Adamax',metrics=['accuracy'])\n",
    "print(model.summary())\n"
   ]
  },
  {
   "cell_type": "code",
   "execution_count": 13,
   "id": "de07cd6a",
   "metadata": {},
   "outputs": [
    {
     "data": {
      "text/plain": [
       "(111, 2)"
      ]
     },
     "execution_count": 13,
     "metadata": {},
     "output_type": "execute_result"
    }
   ],
   "source": [
    "y_train.shape"
   ]
  },
  {
   "cell_type": "code",
   "execution_count": 14,
   "id": "5e7b56c6",
   "metadata": {},
   "outputs": [
    {
     "name": "stdout",
     "output_type": "stream",
     "text": [
      "Epoch 1/30\n",
      "3/3 [==============================] - 20s 1s/step - loss: 21.9357 - accuracy: 0.5495 - val_loss: 29.0919 - val_accuracy: 0.6786\n",
      "Epoch 2/30\n",
      "3/3 [==============================] - 0s 142ms/step - loss: 15.2982 - accuracy: 0.7297 - val_loss: 12.1310 - val_accuracy: 0.7857\n",
      "Epoch 3/30\n",
      "3/3 [==============================] - 0s 146ms/step - loss: 4.1862 - accuracy: 0.8378 - val_loss: 5.7017 - val_accuracy: 0.7500\n",
      "Epoch 4/30\n",
      "3/3 [==============================] - 0s 143ms/step - loss: 2.7703 - accuracy: 0.8649 - val_loss: 17.7241 - val_accuracy: 0.6429\n",
      "Epoch 5/30\n",
      "3/3 [==============================] - 0s 146ms/step - loss: 1.2148 - accuracy: 0.9189 - val_loss: 22.1932 - val_accuracy: 0.6429\n",
      "Epoch 6/30\n",
      "3/3 [==============================] - 0s 143ms/step - loss: 1.0972 - accuracy: 0.9189 - val_loss: 20.0317 - val_accuracy: 0.6429\n",
      "Epoch 7/30\n",
      "3/3 [==============================] - 0s 128ms/step - loss: 0.6200 - accuracy: 0.9459 - val_loss: 18.1147 - val_accuracy: 0.6429\n",
      "Epoch 8/30\n",
      "3/3 [==============================] - 0s 139ms/step - loss: 0.5401 - accuracy: 0.9459 - val_loss: 17.5103 - val_accuracy: 0.6429\n",
      "Epoch 9/30\n",
      "3/3 [==============================] - 0s 142ms/step - loss: 0.2271 - accuracy: 0.9730 - val_loss: 17.5171 - val_accuracy: 0.6429\n",
      "Epoch 10/30\n",
      "3/3 [==============================] - 0s 143ms/step - loss: 0.0294 - accuracy: 0.9910 - val_loss: 15.5603 - val_accuracy: 0.6429\n",
      "Epoch 11/30\n",
      "3/3 [==============================] - 0s 148ms/step - loss: 0.2288 - accuracy: 0.9730 - val_loss: 12.2994 - val_accuracy: 0.6786\n",
      "Epoch 12/30\n",
      "3/3 [==============================] - 0s 135ms/step - loss: 0.2209 - accuracy: 0.9910 - val_loss: 9.8840 - val_accuracy: 0.7143\n",
      "Epoch 13/30\n",
      "3/3 [==============================] - 0s 147ms/step - loss: 0.0854 - accuracy: 0.9730 - val_loss: 8.3595 - val_accuracy: 0.7500\n",
      "Epoch 14/30\n",
      "3/3 [==============================] - 0s 125ms/step - loss: 0.0043 - accuracy: 1.0000 - val_loss: 7.5944 - val_accuracy: 0.7857\n",
      "Epoch 15/30\n",
      "3/3 [==============================] - 0s 126ms/step - loss: 0.0305 - accuracy: 0.9910 - val_loss: 7.1756 - val_accuracy: 0.7857\n",
      "Epoch 16/30\n",
      "3/3 [==============================] - 0s 157ms/step - loss: 0.3587 - accuracy: 0.9640 - val_loss: 8.1458 - val_accuracy: 0.7500\n",
      "Epoch 17/30\n",
      "3/3 [==============================] - 0s 141ms/step - loss: 0.0122 - accuracy: 0.9910 - val_loss: 8.1981 - val_accuracy: 0.7143\n",
      "Epoch 18/30\n",
      "3/3 [==============================] - 0s 141ms/step - loss: 0.0163 - accuracy: 0.9910 - val_loss: 7.8878 - val_accuracy: 0.7143\n",
      "Epoch 19/30\n",
      "3/3 [==============================] - 0s 141ms/step - loss: 0.0546 - accuracy: 0.9910 - val_loss: 7.2562 - val_accuracy: 0.7500\n",
      "Epoch 20/30\n",
      "3/3 [==============================] - 0s 143ms/step - loss: 0.0012 - accuracy: 1.0000 - val_loss: 6.5436 - val_accuracy: 0.8214\n",
      "Epoch 21/30\n",
      "3/3 [==============================] - 0s 143ms/step - loss: 0.0496 - accuracy: 0.9910 - val_loss: 6.0129 - val_accuracy: 0.8214\n",
      "Epoch 22/30\n",
      "3/3 [==============================] - 0s 143ms/step - loss: 0.0316 - accuracy: 0.9910 - val_loss: 5.7579 - val_accuracy: 0.8214\n",
      "Epoch 23/30\n",
      "3/3 [==============================] - 0s 146ms/step - loss: 0.0895 - accuracy: 0.9820 - val_loss: 5.6763 - val_accuracy: 0.7857\n",
      "Epoch 24/30\n",
      "3/3 [==============================] - 0s 146ms/step - loss: 1.4552e-06 - accuracy: 1.0000 - val_loss: 5.6432 - val_accuracy: 0.7857\n",
      "Epoch 25/30\n",
      "3/3 [==============================] - 0s 147ms/step - loss: 0.0124 - accuracy: 0.9910 - val_loss: 5.6867 - val_accuracy: 0.7857\n",
      "Epoch 26/30\n",
      "3/3 [==============================] - 0s 145ms/step - loss: 0.0590 - accuracy: 0.9820 - val_loss: 5.7480 - val_accuracy: 0.7857\n",
      "Epoch 27/30\n",
      "3/3 [==============================] - 0s 144ms/step - loss: 7.0065e-05 - accuracy: 1.0000 - val_loss: 5.7687 - val_accuracy: 0.7500\n",
      "Epoch 28/30\n",
      "3/3 [==============================] - 0s 140ms/step - loss: 1.9711e-04 - accuracy: 1.0000 - val_loss: 5.7790 - val_accuracy: 0.7500\n",
      "Epoch 29/30\n",
      "3/3 [==============================] - 0s 129ms/step - loss: 6.1804e-05 - accuracy: 1.0000 - val_loss: 5.7870 - val_accuracy: 0.7500\n",
      "Epoch 30/30\n",
      "3/3 [==============================] - 0s 140ms/step - loss: 0.0125 - accuracy: 0.9910 - val_loss: 5.7829 - val_accuracy: 0.7857\n"
     ]
    }
   ],
   "source": [
    "history = model.fit(x_train, y_train, epochs = 30, batch_size = 40, verbose = 1,validation_data = (x_test, y_test))\n"
   ]
  },
  {
   "cell_type": "code",
   "execution_count": 15,
   "id": "e8cebcd8",
   "metadata": {},
   "outputs": [
    {
     "data": {
      "image/png": "[encoded data removed]",
      "text/plain": [
       "<Figure size 432x288 with 1 Axes>"
      ]
     },
     "metadata": {
      "needs_background": "light"
     },
     "output_type": "display_data"
    }
   ],
   "source": [
    "plt.plot(history.history['loss'])\n",
    "plt.plot(history.history['val_loss'])\n",
    "plt.title('Model Loss')\n",
    "plt.ylabel('Loss')\n",
    "plt.xlabel('Epoch')\n",
    "plt.legend(['Test', 'Validation'], loc='upper right')\n",
    "plt.show()\n"
   ]
  },
  {
   "cell_type": "code",
   "execution_count": 16,
   "id": "4cc3a014",
   "metadata": {},
   "outputs": [
    {
     "data": {
      "text/plain": [
       "[0.5495495200157166,\n",
       " 0.7297297120094299,\n",
       " 0.837837815284729,\n",
       " 0.8648648858070374,\n",
       " 0.9189189076423645,\n",
       " 0.9189189076423645,\n",
       " 0.9459459185600281,\n",
       " 0.9459459185600281,\n",
       " 0.9729729890823364,\n",
       " 0.9909909963607788,\n",
       " 0.9729729890823364,\n",
       " 0.9909909963607788,\n",
       " 0.9729729890823364,\n",
       " 1.0,\n",
       " 0.9909909963607788,\n",
       " 0.9639639854431152,\n",
       " 0.9909909963607788,\n",
       " 0.9909909963607788,\n",
       " 0.9909909963607788,\n",
       " 1.0,\n",
       " 0.9909909963607788,\n",
       " 0.9909909963607788,\n",
       " 0.9819819927215576,\n",
       " 1.0,\n",
       " 0.9909909963607788,\n",
       " 0.9819819927215576,\n",
       " 1.0,\n",
       " 1.0,\n",
       " 1.0,\n",
       " 0.9909909963607788]"
      ]
     },
     "execution_count": 16,
     "metadata": {},
     "output_type": "execute_result"
    }
   ],
   "source": [
    "history.history['accuracy']"
   ]
  },
  {
   "cell_type": "code",
   "execution_count": 17,
   "id": "e650a275",
   "metadata": {},
   "outputs": [],
   "source": [
    "def names(number):\n",
    "    if number==0:\n",
    "        return 'Its a Tumor'\n",
    "    else:\n",
    "        return 'No, Its not a tumor'"
   ]
  },
  {
   "cell_type": "code",
   "execution_count": 18,
   "id": "e40c9367",
   "metadata": {},
   "outputs": [
    {
     "name": "stdout",
     "output_type": "stream",
     "text": [
      "100.0% Confidence No, Its not a tumor\n"
     ]
    },
    {
     "data": {
      "image/png": "[encoded data removed]",
      "text/plain": [
       "<Figure size 432x288 with 1 Axes>"
      ]
     },
     "metadata": {
      "needs_background": "light"
     },
     "output_type": "display_data"
    }
   ],
   "source": [
    "#prediction for a image which is not having tumor\n",
    "\n",
    "from matplotlib.pyplot import imshow\n",
    "img = Image.open(r'E:\\Desktop Files\\Machine Learning\\Deep learning class lab\\Brain Tumor Recognition\\brain_tumor_dataset\\no\\21 no.jpg')\n",
    "x = np.array(img.resize((128,128)))\n",
    "x = x.reshape(1,128,128,3)\n",
    "res = model.predict_on_batch(x)\n",
    "classification = np.where(res == np.amax(res))[1][0]\n",
    "imshow(img)\n",
    "print(str(res[0][classification]*100) + '% Confidence ' + names(classification))"
   ]
  },
  {
   "cell_type": "code",
   "execution_count": 19,
   "id": "27f1486c",
   "metadata": {},
   "outputs": [
    {
     "ename": "FileNotFoundError",
     "evalue": "[Errno 2] No such file or directory: 'E:\\\\Desktop Files\\\\Machine Learning\\\\Deep learning class lab\\\\Braib Tumor Recognition\\\\brain_tumor_dataset\\\\yes\\\\Y18.jpg'",
     "output_type": "error",
     "traceback": [
      "\u001b[1;31m---------------------------------------------------------------------------\u001b[0m",
      "\u001b[1;31mFileNotFoundError\u001b[0m                         Traceback (most recent call last)",
      "\u001b[1;32m~\\AppData\\Local\\Temp/ipykernel_13612/1871462691.py\u001b[0m in \u001b[0;36m<module>\u001b[1;34m\u001b[0m\n\u001b[0;32m      2\u001b[0m \u001b[1;33m\u001b[0m\u001b[0m\n\u001b[0;32m      3\u001b[0m \u001b[1;32mfrom\u001b[0m \u001b[0mmatplotlib\u001b[0m\u001b[1;33m.\u001b[0m\u001b[0mpyplot\u001b[0m \u001b[1;32mimport\u001b[0m \u001b[0mimshow\u001b[0m\u001b[1;33m\u001b[0m\u001b[1;33m\u001b[0m\u001b[0m\n\u001b[1;32m----> 4\u001b[1;33m \u001b[0mimg\u001b[0m \u001b[1;33m=\u001b[0m \u001b[0mImage\u001b[0m\u001b[1;33m.\u001b[0m\u001b[0mopen\u001b[0m\u001b[1;33m(\u001b[0m\u001b[1;34mr'E:\\Desktop Files\\Machine Learning\\Deep learning class lab\\Braib Tumor Recognition\\brain_tumor_dataset\\yes\\Y18.jpg'\u001b[0m\u001b[1;33m)\u001b[0m\u001b[1;33m\u001b[0m\u001b[1;33m\u001b[0m\u001b[0m\n\u001b[0m\u001b[0;32m      5\u001b[0m \u001b[0mx\u001b[0m \u001b[1;33m=\u001b[0m \u001b[0mnp\u001b[0m\u001b[1;33m.\u001b[0m\u001b[0marray\u001b[0m\u001b[1;33m(\u001b[0m\u001b[0mimg\u001b[0m\u001b[1;33m.\u001b[0m\u001b[0mresize\u001b[0m\u001b[1;33m(\u001b[0m\u001b[1;33m(\u001b[0m\u001b[1;36m128\u001b[0m\u001b[1;33m,\u001b[0m\u001b[1;36m128\u001b[0m\u001b[1;33m)\u001b[0m\u001b[1;33m)\u001b[0m\u001b[1;33m)\u001b[0m\u001b[1;33m\u001b[0m\u001b[1;33m\u001b[0m\u001b[0m\n\u001b[0;32m      6\u001b[0m \u001b[0mx\u001b[0m \u001b[1;33m=\u001b[0m \u001b[0mx\u001b[0m\u001b[1;33m.\u001b[0m\u001b[0mreshape\u001b[0m\u001b[1;33m(\u001b[0m\u001b[1;36m1\u001b[0m\u001b[1;33m,\u001b[0m\u001b[1;36m128\u001b[0m\u001b[1;33m,\u001b[0m\u001b[1;36m128\u001b[0m\u001b[1;33m,\u001b[0m\u001b[1;36m3\u001b[0m\u001b[1;33m)\u001b[0m\u001b[1;33m\u001b[0m\u001b[1;33m\u001b[0m\u001b[0m\n",
      "\u001b[1;32m~\\anaconda3\\lib\\site-packages\\PIL\\Image.py\u001b[0m in \u001b[0;36mopen\u001b[1;34m(fp, mode, formats)\u001b[0m\n\u001b[0;32m   2973\u001b[0m \u001b[1;33m\u001b[0m\u001b[0m\n\u001b[0;32m   2974\u001b[0m     \u001b[1;32mif\u001b[0m \u001b[0mfilename\u001b[0m\u001b[1;33m:\u001b[0m\u001b[1;33m\u001b[0m\u001b[1;33m\u001b[0m\u001b[0m\n\u001b[1;32m-> 2975\u001b[1;33m         \u001b[0mfp\u001b[0m \u001b[1;33m=\u001b[0m \u001b[0mbuiltins\u001b[0m\u001b[1;33m.\u001b[0m\u001b[0mopen\u001b[0m\u001b[1;33m(\u001b[0m\u001b[0mfilename\u001b[0m\u001b[1;33m,\u001b[0m \u001b[1;34m\"rb\"\u001b[0m\u001b[1;33m)\u001b[0m\u001b[1;33m\u001b[0m\u001b[1;33m\u001b[0m\u001b[0m\n\u001b[0m\u001b[0;32m   2976\u001b[0m         \u001b[0mexclusive_fp\u001b[0m \u001b[1;33m=\u001b[0m \u001b[1;32mTrue\u001b[0m\u001b[1;33m\u001b[0m\u001b[1;33m\u001b[0m\u001b[0m\n\u001b[0;32m   2977\u001b[0m \u001b[1;33m\u001b[0m\u001b[0m\n",
      "\u001b[1;31mFileNotFoundError\u001b[0m: [Errno 2] No such file or directory: 'E:\\\\Desktop Files\\\\Machine Learning\\\\Deep learning class lab\\\\Braib Tumor Recognition\\\\brain_tumor_dataset\\\\yes\\\\Y18.jpg'"
     ]
    }
   ],
   "source": [
    "#prediction for a image which is having tumor\n",
    "\n",
    "from matplotlib.pyplot import imshow\n",
    "img = Image.open(r'E:\\Desktop Files\\Machine Learning\\Deep learning class lab\\Braib Tumor Recognition\\brain_tumor_dataset\\yes\\Y18.jpg')\n",
    "x = np.array(img.resize((128,128)))\n",
    "x = x.reshape(1,128,128,3)\n",
    "res = model.predict_on_batch(x)\n",
    "classification = np.where(res == np.amax(res))[1][0]\n",
    "imshow(img)\n",
    "print(str(res[0][classification]*100) + '% Confidence ' + names(classification))"
   ]
  },
  {
   "cell_type": "code",
   "execution_count": null,
   "id": "08d6bc4e",
   "metadata": {},
   "outputs": [],
   "source": []
  }
 ],
 "metadata": {
  "kernelspec": {
   "display_name": "Python 3 (ipykernel)",
   "language": "python",
   "name": "python3"
  },
  "language_info": {
   "codemirror_mode": {
    "name": "ipython",
    "version": 3
   },
   "file_extension": ".py",
   "mimetype": "text/x-python",
   "name": "python",
   "nbconvert_exporter": "python",
   "pygments_lexer": "ipython3",
   "version": "3.9.7"
  }
 },
 "nbformat": 4,
 "nbformat_minor": 5
}
